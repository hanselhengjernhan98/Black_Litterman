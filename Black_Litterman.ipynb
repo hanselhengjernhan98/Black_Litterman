{
 "cells": [
  {
   "cell_type": "markdown",
   "metadata": {},
   "source": [
    "# Advanced Portfolio Optimization: The Black-Litterman Model"
   ]
  },
  {
   "cell_type": "markdown",
   "metadata": {},
   "source": [
    " ## Motivation"
   ]
  },
  {
   "cell_type": "markdown",
   "metadata": {},
   "source": [
    "__Problems of Mean-Variance-Optimization (MVO)__"
   ]
  },
  {
   "cell_type": "markdown",
   "metadata": {},
   "source": [
    "- can lead to __short__ positions and positions __> 1__ (unbounded)\n",
    "- will certainly lead to __concentrated__ portfolios (unbounded)\n",
    "- highly dependent on & sensitive to __inputs/assumptions__ (return forecasts) -> GIGO\n",
    "- small changes in forecasts (returns) lead to __large changes in weights__ (rebalancing costs!)\n",
    "- __no guarantee__ that MVO-optimized Portfolio performs better than naive-diversified portfolio"
   ]
  },
  {
   "cell_type": "markdown",
   "metadata": {},
   "source": [
    "__Biggest Issue: Forecasting Returns__"
   ]
  },
  {
   "cell_type": "markdown",
   "metadata": {},
   "source": [
    "There are various return forecasting models. But, these models:\n",
    "- lead to conflicting results...\n",
    "- require assumptions/inputs (GIGO)...\n",
    "- don´t guarantee accurate forecasts\n",
    "- can´t be applied to all asset classes (e.g. Cryptocurrencies)"
   ]
  },
  {
   "cell_type": "markdown",
   "metadata": {},
   "source": [
    "__Alternative Approach__: Why not starting with (average) __Market Expectations__ (implied returns)?"
   ]
  },
  {
   "cell_type": "markdown",
   "metadata": {},
   "source": [
    "__Reverse Optimization:__"
   ]
  },
  {
   "cell_type": "markdown",
   "metadata": {},
   "source": [
    "Inputs:"
   ]
  },
  {
   "cell_type": "markdown",
   "metadata": {},
   "source": [
    "- Return of risk-free Asset\n",
    "- expected Variances / Covariances\n",
    "- __market cap weights (efficient)__"
   ]
  },
  {
   "cell_type": "markdown",
   "metadata": {},
   "source": [
    "Output:"
   ]
  },
  {
   "cell_type": "markdown",
   "metadata": {},
   "source": [
    "- __Implied Returns__ (market expectation)"
   ]
  },
  {
   "attachments": {},
   "cell_type": "markdown",
   "metadata": {},
   "source": [
    "__Key Learnings__:\n",
    "- Black-Litterman (BL) more meaningful/reliable if the entire market is included \n",
    "- small forecast changes lead to large changes in weights (be careful)\n",
    "- BL should be combined with additional bounds/constraints\n",
    "- opinions should be derived from / verified with other forecasting models"
   ]
  },
  {
   "cell_type": "markdown",
   "metadata": {},
   "source": [
    "## (Inputs for reverse Optimization)"
   ]
  },
  {
   "cell_type": "code",
   "execution_count": 101,
   "metadata": {},
   "outputs": [
    {
     "name": "stderr",
     "output_type": "stream",
     "text": [
      "[*********************100%%**********************]  8 of 8 completed\n"
     ]
    },
    {
     "data": {
      "text/html": [
       "<div>\n",
       "<style scoped>\n",
       "    .dataframe tbody tr th:only-of-type {\n",
       "        vertical-align: middle;\n",
       "    }\n",
       "\n",
       "    .dataframe tbody tr th {\n",
       "        vertical-align: top;\n",
       "    }\n",
       "\n",
       "    .dataframe thead th {\n",
       "        text-align: right;\n",
       "    }\n",
       "</style>\n",
       "<table border=\"1\" class=\"dataframe\">\n",
       "  <thead>\n",
       "    <tr style=\"text-align: right;\">\n",
       "      <th>Ticker</th>\n",
       "      <th>AAPL</th>\n",
       "      <th>BA</th>\n",
       "      <th>DIS</th>\n",
       "      <th>GE</th>\n",
       "      <th>JPM</th>\n",
       "      <th>MSFT</th>\n",
       "      <th>TSLA</th>\n",
       "      <th>WMT</th>\n",
       "    </tr>\n",
       "    <tr>\n",
       "      <th>Date</th>\n",
       "      <th></th>\n",
       "      <th></th>\n",
       "      <th></th>\n",
       "      <th></th>\n",
       "      <th></th>\n",
       "      <th></th>\n",
       "      <th></th>\n",
       "      <th></th>\n",
       "    </tr>\n",
       "  </thead>\n",
       "  <tbody>\n",
       "    <tr>\n",
       "      <th>2019-09-09</th>\n",
       "      <td>53.542500</td>\n",
       "      <td>358.779999</td>\n",
       "      <td>138.830002</td>\n",
       "      <td>44.657848</td>\n",
       "      <td>115.400002</td>\n",
       "      <td>137.520004</td>\n",
       "      <td>15.452667</td>\n",
       "      <td>38.776669</td>\n",
       "    </tr>\n",
       "    <tr>\n",
       "      <th>2019-09-10</th>\n",
       "      <td>54.174999</td>\n",
       "      <td>369.489990</td>\n",
       "      <td>135.789993</td>\n",
       "      <td>45.554993</td>\n",
       "      <td>116.870003</td>\n",
       "      <td>136.080002</td>\n",
       "      <td>15.702667</td>\n",
       "      <td>38.683334</td>\n",
       "    </tr>\n",
       "    <tr>\n",
       "      <th>2019-09-11</th>\n",
       "      <td>55.897499</td>\n",
       "      <td>382.940002</td>\n",
       "      <td>136.190002</td>\n",
       "      <td>46.651501</td>\n",
       "      <td>117.190002</td>\n",
       "      <td>136.119995</td>\n",
       "      <td>16.473333</td>\n",
       "      <td>38.673332</td>\n",
       "    </tr>\n",
       "    <tr>\n",
       "      <th>2019-09-12</th>\n",
       "      <td>55.772499</td>\n",
       "      <td>375.630005</td>\n",
       "      <td>137.500000</td>\n",
       "      <td>46.153088</td>\n",
       "      <td>117.910004</td>\n",
       "      <td>137.520004</td>\n",
       "      <td>16.391333</td>\n",
       "      <td>38.973331</td>\n",
       "    </tr>\n",
       "    <tr>\n",
       "      <th>2019-09-13</th>\n",
       "      <td>54.687500</td>\n",
       "      <td>379.760010</td>\n",
       "      <td>138.020004</td>\n",
       "      <td>46.551819</td>\n",
       "      <td>120.230003</td>\n",
       "      <td>137.320007</td>\n",
       "      <td>16.346666</td>\n",
       "      <td>39.143333</td>\n",
       "    </tr>\n",
       "    <tr>\n",
       "      <th>...</th>\n",
       "      <td>...</td>\n",
       "      <td>...</td>\n",
       "      <td>...</td>\n",
       "      <td>...</td>\n",
       "      <td>...</td>\n",
       "      <td>...</td>\n",
       "      <td>...</td>\n",
       "      <td>...</td>\n",
       "    </tr>\n",
       "    <tr>\n",
       "      <th>2024-08-30</th>\n",
       "      <td>229.000000</td>\n",
       "      <td>173.740005</td>\n",
       "      <td>90.379997</td>\n",
       "      <td>174.619995</td>\n",
       "      <td>224.800003</td>\n",
       "      <td>417.140015</td>\n",
       "      <td>214.110001</td>\n",
       "      <td>77.230003</td>\n",
       "    </tr>\n",
       "    <tr>\n",
       "      <th>2024-09-03</th>\n",
       "      <td>222.770004</td>\n",
       "      <td>161.020004</td>\n",
       "      <td>89.129997</td>\n",
       "      <td>164.210007</td>\n",
       "      <td>220.300003</td>\n",
       "      <td>409.440002</td>\n",
       "      <td>210.600006</td>\n",
       "      <td>77.169998</td>\n",
       "    </tr>\n",
       "    <tr>\n",
       "      <th>2024-09-04</th>\n",
       "      <td>220.850006</td>\n",
       "      <td>163.220001</td>\n",
       "      <td>89.250000</td>\n",
       "      <td>166.360001</td>\n",
       "      <td>219.330002</td>\n",
       "      <td>408.899994</td>\n",
       "      <td>219.410004</td>\n",
       "      <td>77.239998</td>\n",
       "    </tr>\n",
       "    <tr>\n",
       "      <th>2024-09-05</th>\n",
       "      <td>222.380005</td>\n",
       "      <td>162.149994</td>\n",
       "      <td>88.650002</td>\n",
       "      <td>163.850006</td>\n",
       "      <td>217.630005</td>\n",
       "      <td>408.390015</td>\n",
       "      <td>230.169998</td>\n",
       "      <td>76.959999</td>\n",
       "    </tr>\n",
       "    <tr>\n",
       "      <th>2024-09-06</th>\n",
       "      <td>220.820007</td>\n",
       "      <td>157.619995</td>\n",
       "      <td>87.940002</td>\n",
       "      <td>161.229996</td>\n",
       "      <td>212.460007</td>\n",
       "      <td>401.700012</td>\n",
       "      <td>210.729996</td>\n",
       "      <td>76.639999</td>\n",
       "    </tr>\n",
       "  </tbody>\n",
       "</table>\n",
       "<p>1258 rows × 8 columns</p>\n",
       "</div>"
      ],
      "text/plain": [
       "Ticker           AAPL         BA        DIS         GE        JPM       MSFT  \\\n",
       "Date                                                                           \n",
       "2019-09-09  53.542500 358.779999 138.830002  44.657848 115.400002 137.520004   \n",
       "2019-09-10  54.174999 369.489990 135.789993  45.554993 116.870003 136.080002   \n",
       "2019-09-11  55.897499 382.940002 136.190002  46.651501 117.190002 136.119995   \n",
       "2019-09-12  55.772499 375.630005 137.500000  46.153088 117.910004 137.520004   \n",
       "2019-09-13  54.687500 379.760010 138.020004  46.551819 120.230003 137.320007   \n",
       "...               ...        ...        ...        ...        ...        ...   \n",
       "2024-08-30 229.000000 173.740005  90.379997 174.619995 224.800003 417.140015   \n",
       "2024-09-03 222.770004 161.020004  89.129997 164.210007 220.300003 409.440002   \n",
       "2024-09-04 220.850006 163.220001  89.250000 166.360001 219.330002 408.899994   \n",
       "2024-09-05 222.380005 162.149994  88.650002 163.850006 217.630005 408.390015   \n",
       "2024-09-06 220.820007 157.619995  87.940002 161.229996 212.460007 401.700012   \n",
       "\n",
       "Ticker           TSLA       WMT  \n",
       "Date                             \n",
       "2019-09-09  15.452667 38.776669  \n",
       "2019-09-10  15.702667 38.683334  \n",
       "2019-09-11  16.473333 38.673332  \n",
       "2019-09-12  16.391333 38.973331  \n",
       "2019-09-13  16.346666 39.143333  \n",
       "...               ...       ...  \n",
       "2024-08-30 214.110001 77.230003  \n",
       "2024-09-03 210.600006 77.169998  \n",
       "2024-09-04 219.410004 77.239998  \n",
       "2024-09-05 230.169998 76.959999  \n",
       "2024-09-06 210.729996 76.639999  \n",
       "\n",
       "[1258 rows x 8 columns]"
      ]
     },
     "execution_count": 101,
     "metadata": {},
     "output_type": "execute_result"
    }
   ],
   "source": [
    "import pandas as pd\n",
    "import numpy as np\n",
    "pd.options.display.float_format = '{:.6f}'.format\n",
    "import matplotlib.pyplot as plt\n",
    "import yfinance as yf\n",
    "\n",
    "start = '2019-09-09'\n",
    "end = '2024-09-09'\n",
    "symbol = ['AAPL', 'BA', 'TSLA', 'WMT', 'MSFT', 'JPM', 'DIS', 'GE']\n",
    "df = yf.download(symbol, start, end ).Close\n",
    "df"
   ]
  },
  {
   "cell_type": "markdown",
   "metadata": {},
   "source": [
    "__Return of Risk-free Assets:__"
   ]
  },
  {
   "cell_type": "code",
   "execution_count": 104,
   "metadata": {},
   "outputs": [],
   "source": [
    "rf = 0.03"
   ]
  },
  {
   "cell_type": "markdown",
   "metadata": {},
   "source": [
    "__Market Cap Weights__, as of 2022-06-30: "
   ]
  },
  {
   "cell_type": "code",
   "execution_count": 107,
   "metadata": {},
   "outputs": [
    {
     "data": {
      "text/plain": [
       "{'AAPL': 0.3758452265955565,\n",
       " 'BA': 0.01379913198459885,\n",
       " 'DIS': 0.029242799417694997,\n",
       " 'GE': 0.011873988109005319,\n",
       " 'JPM': 0.05616250119046,\n",
       " 'MSFT': 0.32652616971197673,\n",
       " 'TSLA': 0.1298723826886709,\n",
       " 'WMT': 0.0566778003020367}"
      ]
     },
     "execution_count": 107,
     "metadata": {},
     "output_type": "execute_result"
    }
   ],
   "source": [
    "weights= {'AAPL': 0.3758452265955565,\n",
    "          'BA': 0.01379913198459885,\n",
    "          'DIS': 0.029242799417694997,\n",
    "          'GE': 0.011873988109005319,\n",
    "          'JPM': 0.05616250119046,\n",
    "          'MSFT': 0.32652616971197673,\n",
    "          'TSLA': 0.1298723826886709,\n",
    "          'WMT': 0.0566778003020367}\n",
    "weights"
   ]
  },
  {
   "cell_type": "code",
   "execution_count": 109,
   "metadata": {},
   "outputs": [
    {
     "data": {
      "text/plain": [
       "AAPL   0.375845\n",
       "BA     0.013799\n",
       "DIS    0.029243\n",
       "GE     0.011874\n",
       "JPM    0.056163\n",
       "MSFT   0.326526\n",
       "TSLA   0.129872\n",
       "WMT    0.056678\n",
       "dtype: float64"
      ]
     },
     "execution_count": 109,
     "metadata": {},
     "output_type": "execute_result"
    }
   ],
   "source": [
    "weights = pd.Series(weights)\n",
    "weights"
   ]
  },
  {
   "cell_type": "code",
   "execution_count": 111,
   "metadata": {},
   "outputs": [
    {
     "data": {
      "text/html": [
       "<div>\n",
       "<style scoped>\n",
       "    .dataframe tbody tr th:only-of-type {\n",
       "        vertical-align: middle;\n",
       "    }\n",
       "\n",
       "    .dataframe tbody tr th {\n",
       "        vertical-align: top;\n",
       "    }\n",
       "\n",
       "    .dataframe thead th {\n",
       "        text-align: right;\n",
       "    }\n",
       "</style>\n",
       "<table border=\"1\" class=\"dataframe\">\n",
       "  <thead>\n",
       "    <tr style=\"text-align: right;\">\n",
       "      <th>Ticker</th>\n",
       "      <th>AAPL</th>\n",
       "      <th>BA</th>\n",
       "      <th>DIS</th>\n",
       "      <th>GE</th>\n",
       "      <th>JPM</th>\n",
       "      <th>MSFT</th>\n",
       "      <th>TSLA</th>\n",
       "      <th>WMT</th>\n",
       "    </tr>\n",
       "    <tr>\n",
       "      <th>Date</th>\n",
       "      <th></th>\n",
       "      <th></th>\n",
       "      <th></th>\n",
       "      <th></th>\n",
       "      <th></th>\n",
       "      <th></th>\n",
       "      <th></th>\n",
       "      <th></th>\n",
       "    </tr>\n",
       "  </thead>\n",
       "  <tbody>\n",
       "    <tr>\n",
       "      <th>2019-09-09</th>\n",
       "      <td>53.542500</td>\n",
       "      <td>358.779999</td>\n",
       "      <td>138.830002</td>\n",
       "      <td>44.657848</td>\n",
       "      <td>115.400002</td>\n",
       "      <td>137.520004</td>\n",
       "      <td>15.452667</td>\n",
       "      <td>38.776669</td>\n",
       "    </tr>\n",
       "    <tr>\n",
       "      <th>2019-09-10</th>\n",
       "      <td>54.174999</td>\n",
       "      <td>369.489990</td>\n",
       "      <td>135.789993</td>\n",
       "      <td>45.554993</td>\n",
       "      <td>116.870003</td>\n",
       "      <td>136.080002</td>\n",
       "      <td>15.702667</td>\n",
       "      <td>38.683334</td>\n",
       "    </tr>\n",
       "    <tr>\n",
       "      <th>2019-09-11</th>\n",
       "      <td>55.897499</td>\n",
       "      <td>382.940002</td>\n",
       "      <td>136.190002</td>\n",
       "      <td>46.651501</td>\n",
       "      <td>117.190002</td>\n",
       "      <td>136.119995</td>\n",
       "      <td>16.473333</td>\n",
       "      <td>38.673332</td>\n",
       "    </tr>\n",
       "    <tr>\n",
       "      <th>2019-09-12</th>\n",
       "      <td>55.772499</td>\n",
       "      <td>375.630005</td>\n",
       "      <td>137.500000</td>\n",
       "      <td>46.153088</td>\n",
       "      <td>117.910004</td>\n",
       "      <td>137.520004</td>\n",
       "      <td>16.391333</td>\n",
       "      <td>38.973331</td>\n",
       "    </tr>\n",
       "    <tr>\n",
       "      <th>2019-09-13</th>\n",
       "      <td>54.687500</td>\n",
       "      <td>379.760010</td>\n",
       "      <td>138.020004</td>\n",
       "      <td>46.551819</td>\n",
       "      <td>120.230003</td>\n",
       "      <td>137.320007</td>\n",
       "      <td>16.346666</td>\n",
       "      <td>39.143333</td>\n",
       "    </tr>\n",
       "    <tr>\n",
       "      <th>...</th>\n",
       "      <td>...</td>\n",
       "      <td>...</td>\n",
       "      <td>...</td>\n",
       "      <td>...</td>\n",
       "      <td>...</td>\n",
       "      <td>...</td>\n",
       "      <td>...</td>\n",
       "      <td>...</td>\n",
       "    </tr>\n",
       "    <tr>\n",
       "      <th>2024-08-30</th>\n",
       "      <td>229.000000</td>\n",
       "      <td>173.740005</td>\n",
       "      <td>90.379997</td>\n",
       "      <td>174.619995</td>\n",
       "      <td>224.800003</td>\n",
       "      <td>417.140015</td>\n",
       "      <td>214.110001</td>\n",
       "      <td>77.230003</td>\n",
       "    </tr>\n",
       "    <tr>\n",
       "      <th>2024-09-03</th>\n",
       "      <td>222.770004</td>\n",
       "      <td>161.020004</td>\n",
       "      <td>89.129997</td>\n",
       "      <td>164.210007</td>\n",
       "      <td>220.300003</td>\n",
       "      <td>409.440002</td>\n",
       "      <td>210.600006</td>\n",
       "      <td>77.169998</td>\n",
       "    </tr>\n",
       "    <tr>\n",
       "      <th>2024-09-04</th>\n",
       "      <td>220.850006</td>\n",
       "      <td>163.220001</td>\n",
       "      <td>89.250000</td>\n",
       "      <td>166.360001</td>\n",
       "      <td>219.330002</td>\n",
       "      <td>408.899994</td>\n",
       "      <td>219.410004</td>\n",
       "      <td>77.239998</td>\n",
       "    </tr>\n",
       "    <tr>\n",
       "      <th>2024-09-05</th>\n",
       "      <td>222.380005</td>\n",
       "      <td>162.149994</td>\n",
       "      <td>88.650002</td>\n",
       "      <td>163.850006</td>\n",
       "      <td>217.630005</td>\n",
       "      <td>408.390015</td>\n",
       "      <td>230.169998</td>\n",
       "      <td>76.959999</td>\n",
       "    </tr>\n",
       "    <tr>\n",
       "      <th>2024-09-06</th>\n",
       "      <td>220.820007</td>\n",
       "      <td>157.619995</td>\n",
       "      <td>87.940002</td>\n",
       "      <td>161.229996</td>\n",
       "      <td>212.460007</td>\n",
       "      <td>401.700012</td>\n",
       "      <td>210.729996</td>\n",
       "      <td>76.639999</td>\n",
       "    </tr>\n",
       "  </tbody>\n",
       "</table>\n",
       "<p>1258 rows × 8 columns</p>\n",
       "</div>"
      ],
      "text/plain": [
       "Ticker           AAPL         BA        DIS         GE        JPM       MSFT  \\\n",
       "Date                                                                           \n",
       "2019-09-09  53.542500 358.779999 138.830002  44.657848 115.400002 137.520004   \n",
       "2019-09-10  54.174999 369.489990 135.789993  45.554993 116.870003 136.080002   \n",
       "2019-09-11  55.897499 382.940002 136.190002  46.651501 117.190002 136.119995   \n",
       "2019-09-12  55.772499 375.630005 137.500000  46.153088 117.910004 137.520004   \n",
       "2019-09-13  54.687500 379.760010 138.020004  46.551819 120.230003 137.320007   \n",
       "...               ...        ...        ...        ...        ...        ...   \n",
       "2024-08-30 229.000000 173.740005  90.379997 174.619995 224.800003 417.140015   \n",
       "2024-09-03 222.770004 161.020004  89.129997 164.210007 220.300003 409.440002   \n",
       "2024-09-04 220.850006 163.220001  89.250000 166.360001 219.330002 408.899994   \n",
       "2024-09-05 222.380005 162.149994  88.650002 163.850006 217.630005 408.390015   \n",
       "2024-09-06 220.820007 157.619995  87.940002 161.229996 212.460007 401.700012   \n",
       "\n",
       "Ticker           TSLA       WMT  \n",
       "Date                             \n",
       "2019-09-09  15.452667 38.776669  \n",
       "2019-09-10  15.702667 38.683334  \n",
       "2019-09-11  16.473333 38.673332  \n",
       "2019-09-12  16.391333 38.973331  \n",
       "2019-09-13  16.346666 39.143333  \n",
       "...               ...       ...  \n",
       "2024-08-30 214.110001 77.230003  \n",
       "2024-09-03 210.600006 77.169998  \n",
       "2024-09-04 219.410004 77.239998  \n",
       "2024-09-05 230.169998 76.959999  \n",
       "2024-09-06 210.729996 76.639999  \n",
       "\n",
       "[1258 rows x 8 columns]"
      ]
     },
     "execution_count": 111,
     "metadata": {},
     "output_type": "execute_result"
    }
   ],
   "source": [
    "df"
   ]
  },
  {
   "cell_type": "code",
   "execution_count": 113,
   "metadata": {},
   "outputs": [
    {
     "data": {
      "text/html": [
       "<div>\n",
       "<style scoped>\n",
       "    .dataframe tbody tr th:only-of-type {\n",
       "        vertical-align: middle;\n",
       "    }\n",
       "\n",
       "    .dataframe tbody tr th {\n",
       "        vertical-align: top;\n",
       "    }\n",
       "\n",
       "    .dataframe thead th {\n",
       "        text-align: right;\n",
       "    }\n",
       "</style>\n",
       "<table border=\"1\" class=\"dataframe\">\n",
       "  <thead>\n",
       "    <tr style=\"text-align: right;\">\n",
       "      <th>Ticker</th>\n",
       "      <th>AAPL</th>\n",
       "      <th>BA</th>\n",
       "      <th>DIS</th>\n",
       "      <th>GE</th>\n",
       "      <th>JPM</th>\n",
       "      <th>MSFT</th>\n",
       "      <th>TSLA</th>\n",
       "      <th>WMT</th>\n",
       "    </tr>\n",
       "    <tr>\n",
       "      <th>Date</th>\n",
       "      <th></th>\n",
       "      <th></th>\n",
       "      <th></th>\n",
       "      <th></th>\n",
       "      <th></th>\n",
       "      <th></th>\n",
       "      <th></th>\n",
       "      <th></th>\n",
       "    </tr>\n",
       "  </thead>\n",
       "  <tbody>\n",
       "    <tr>\n",
       "      <th>2019-09-09</th>\n",
       "      <td>NaN</td>\n",
       "      <td>NaN</td>\n",
       "      <td>NaN</td>\n",
       "      <td>NaN</td>\n",
       "      <td>NaN</td>\n",
       "      <td>NaN</td>\n",
       "      <td>NaN</td>\n",
       "      <td>NaN</td>\n",
       "    </tr>\n",
       "    <tr>\n",
       "      <th>2019-09-10</th>\n",
       "      <td>0.011813</td>\n",
       "      <td>0.029851</td>\n",
       "      <td>-0.021897</td>\n",
       "      <td>0.020089</td>\n",
       "      <td>0.012738</td>\n",
       "      <td>-0.010471</td>\n",
       "      <td>0.016178</td>\n",
       "      <td>-0.002407</td>\n",
       "    </tr>\n",
       "    <tr>\n",
       "      <th>2019-09-11</th>\n",
       "      <td>0.031795</td>\n",
       "      <td>0.036402</td>\n",
       "      <td>0.002946</td>\n",
       "      <td>0.024070</td>\n",
       "      <td>0.002738</td>\n",
       "      <td>0.000294</td>\n",
       "      <td>0.049079</td>\n",
       "      <td>-0.000259</td>\n",
       "    </tr>\n",
       "    <tr>\n",
       "      <th>2019-09-12</th>\n",
       "      <td>-0.002236</td>\n",
       "      <td>-0.019089</td>\n",
       "      <td>0.009619</td>\n",
       "      <td>-0.010684</td>\n",
       "      <td>0.006144</td>\n",
       "      <td>0.010285</td>\n",
       "      <td>-0.004978</td>\n",
       "      <td>0.007757</td>\n",
       "    </tr>\n",
       "    <tr>\n",
       "      <th>2019-09-13</th>\n",
       "      <td>-0.019454</td>\n",
       "      <td>0.010995</td>\n",
       "      <td>0.003782</td>\n",
       "      <td>0.008639</td>\n",
       "      <td>0.019676</td>\n",
       "      <td>-0.001454</td>\n",
       "      <td>-0.002725</td>\n",
       "      <td>0.004362</td>\n",
       "    </tr>\n",
       "    <tr>\n",
       "      <th>...</th>\n",
       "      <td>...</td>\n",
       "      <td>...</td>\n",
       "      <td>...</td>\n",
       "      <td>...</td>\n",
       "      <td>...</td>\n",
       "      <td>...</td>\n",
       "      <td>...</td>\n",
       "      <td>...</td>\n",
       "    </tr>\n",
       "    <tr>\n",
       "      <th>2024-08-30</th>\n",
       "      <td>-0.003438</td>\n",
       "      <td>0.008592</td>\n",
       "      <td>0.006347</td>\n",
       "      <td>0.005991</td>\n",
       "      <td>0.011656</td>\n",
       "      <td>0.009731</td>\n",
       "      <td>0.037958</td>\n",
       "      <td>0.010599</td>\n",
       "    </tr>\n",
       "    <tr>\n",
       "      <th>2024-09-03</th>\n",
       "      <td>-0.027205</td>\n",
       "      <td>-0.073213</td>\n",
       "      <td>-0.013830</td>\n",
       "      <td>-0.059615</td>\n",
       "      <td>-0.020018</td>\n",
       "      <td>-0.018459</td>\n",
       "      <td>-0.016393</td>\n",
       "      <td>-0.000777</td>\n",
       "    </tr>\n",
       "    <tr>\n",
       "      <th>2024-09-04</th>\n",
       "      <td>-0.008619</td>\n",
       "      <td>0.013663</td>\n",
       "      <td>0.001346</td>\n",
       "      <td>0.013093</td>\n",
       "      <td>-0.004403</td>\n",
       "      <td>-0.001319</td>\n",
       "      <td>0.041833</td>\n",
       "      <td>0.000907</td>\n",
       "    </tr>\n",
       "    <tr>\n",
       "      <th>2024-09-05</th>\n",
       "      <td>0.006928</td>\n",
       "      <td>-0.006556</td>\n",
       "      <td>-0.006723</td>\n",
       "      <td>-0.015088</td>\n",
       "      <td>-0.007751</td>\n",
       "      <td>-0.001247</td>\n",
       "      <td>0.049041</td>\n",
       "      <td>-0.003625</td>\n",
       "    </tr>\n",
       "    <tr>\n",
       "      <th>2024-09-06</th>\n",
       "      <td>-0.007015</td>\n",
       "      <td>-0.027937</td>\n",
       "      <td>-0.008009</td>\n",
       "      <td>-0.015990</td>\n",
       "      <td>-0.023756</td>\n",
       "      <td>-0.016381</td>\n",
       "      <td>-0.084459</td>\n",
       "      <td>-0.004158</td>\n",
       "    </tr>\n",
       "  </tbody>\n",
       "</table>\n",
       "<p>1258 rows × 8 columns</p>\n",
       "</div>"
      ],
      "text/plain": [
       "Ticker          AAPL        BA       DIS        GE       JPM      MSFT  \\\n",
       "Date                                                                     \n",
       "2019-09-09       NaN       NaN       NaN       NaN       NaN       NaN   \n",
       "2019-09-10  0.011813  0.029851 -0.021897  0.020089  0.012738 -0.010471   \n",
       "2019-09-11  0.031795  0.036402  0.002946  0.024070  0.002738  0.000294   \n",
       "2019-09-12 -0.002236 -0.019089  0.009619 -0.010684  0.006144  0.010285   \n",
       "2019-09-13 -0.019454  0.010995  0.003782  0.008639  0.019676 -0.001454   \n",
       "...              ...       ...       ...       ...       ...       ...   \n",
       "2024-08-30 -0.003438  0.008592  0.006347  0.005991  0.011656  0.009731   \n",
       "2024-09-03 -0.027205 -0.073213 -0.013830 -0.059615 -0.020018 -0.018459   \n",
       "2024-09-04 -0.008619  0.013663  0.001346  0.013093 -0.004403 -0.001319   \n",
       "2024-09-05  0.006928 -0.006556 -0.006723 -0.015088 -0.007751 -0.001247   \n",
       "2024-09-06 -0.007015 -0.027937 -0.008009 -0.015990 -0.023756 -0.016381   \n",
       "\n",
       "Ticker          TSLA       WMT  \n",
       "Date                            \n",
       "2019-09-09       NaN       NaN  \n",
       "2019-09-10  0.016178 -0.002407  \n",
       "2019-09-11  0.049079 -0.000259  \n",
       "2019-09-12 -0.004978  0.007757  \n",
       "2019-09-13 -0.002725  0.004362  \n",
       "...              ...       ...  \n",
       "2024-08-30  0.037958  0.010599  \n",
       "2024-09-03 -0.016393 -0.000777  \n",
       "2024-09-04  0.041833  0.000907  \n",
       "2024-09-05  0.049041 -0.003625  \n",
       "2024-09-06 -0.084459 -0.004158  \n",
       "\n",
       "[1258 rows x 8 columns]"
      ]
     },
     "execution_count": 113,
     "metadata": {},
     "output_type": "execute_result"
    }
   ],
   "source": [
    "returns = df.pct_change()\n",
    "returns"
   ]
  },
  {
   "cell_type": "markdown",
   "metadata": {},
   "source": [
    "__Covariance Matrix:__"
   ]
  },
  {
   "cell_type": "code",
   "execution_count": 116,
   "metadata": {},
   "outputs": [
    {
     "data": {
      "text/html": [
       "<div>\n",
       "<style scoped>\n",
       "    .dataframe tbody tr th:only-of-type {\n",
       "        vertical-align: middle;\n",
       "    }\n",
       "\n",
       "    .dataframe tbody tr th {\n",
       "        vertical-align: top;\n",
       "    }\n",
       "\n",
       "    .dataframe thead th {\n",
       "        text-align: right;\n",
       "    }\n",
       "</style>\n",
       "<table border=\"1\" class=\"dataframe\">\n",
       "  <thead>\n",
       "    <tr style=\"text-align: right;\">\n",
       "      <th>Ticker</th>\n",
       "      <th>AAPL</th>\n",
       "      <th>BA</th>\n",
       "      <th>DIS</th>\n",
       "      <th>GE</th>\n",
       "      <th>JPM</th>\n",
       "      <th>MSFT</th>\n",
       "      <th>TSLA</th>\n",
       "      <th>WMT</th>\n",
       "    </tr>\n",
       "    <tr>\n",
       "      <th>Ticker</th>\n",
       "      <th></th>\n",
       "      <th></th>\n",
       "      <th></th>\n",
       "      <th></th>\n",
       "      <th></th>\n",
       "      <th></th>\n",
       "      <th></th>\n",
       "      <th></th>\n",
       "    </tr>\n",
       "  </thead>\n",
       "  <tbody>\n",
       "    <tr>\n",
       "      <th>AAPL</th>\n",
       "      <td>0.100524</td>\n",
       "      <td>0.065758</td>\n",
       "      <td>0.047655</td>\n",
       "      <td>0.046143</td>\n",
       "      <td>0.043029</td>\n",
       "      <td>0.071839</td>\n",
       "      <td>0.102376</td>\n",
       "      <td>0.026092</td>\n",
       "    </tr>\n",
       "    <tr>\n",
       "      <th>BA</th>\n",
       "      <td>0.065758</td>\n",
       "      <td>0.259805</td>\n",
       "      <td>0.088111</td>\n",
       "      <td>0.124452</td>\n",
       "      <td>0.095406</td>\n",
       "      <td>0.057007</td>\n",
       "      <td>0.107528</td>\n",
       "      <td>0.017760</td>\n",
       "    </tr>\n",
       "    <tr>\n",
       "      <th>DIS</th>\n",
       "      <td>0.047655</td>\n",
       "      <td>0.088111</td>\n",
       "      <td>0.115289</td>\n",
       "      <td>0.065014</td>\n",
       "      <td>0.061581</td>\n",
       "      <td>0.049045</td>\n",
       "      <td>0.071607</td>\n",
       "      <td>0.018183</td>\n",
       "    </tr>\n",
       "    <tr>\n",
       "      <th>GE</th>\n",
       "      <td>0.046143</td>\n",
       "      <td>0.124452</td>\n",
       "      <td>0.065014</td>\n",
       "      <td>0.157411</td>\n",
       "      <td>0.079695</td>\n",
       "      <td>0.043903</td>\n",
       "      <td>0.060724</td>\n",
       "      <td>0.015356</td>\n",
       "    </tr>\n",
       "    <tr>\n",
       "      <th>JPM</th>\n",
       "      <td>0.043029</td>\n",
       "      <td>0.095406</td>\n",
       "      <td>0.061581</td>\n",
       "      <td>0.079695</td>\n",
       "      <td>0.102221</td>\n",
       "      <td>0.041689</td>\n",
       "      <td>0.056110</td>\n",
       "      <td>0.017977</td>\n",
       "    </tr>\n",
       "    <tr>\n",
       "      <th>MSFT</th>\n",
       "      <td>0.071839</td>\n",
       "      <td>0.057007</td>\n",
       "      <td>0.049045</td>\n",
       "      <td>0.043903</td>\n",
       "      <td>0.041689</td>\n",
       "      <td>0.091758</td>\n",
       "      <td>0.089836</td>\n",
       "      <td>0.025876</td>\n",
       "    </tr>\n",
       "    <tr>\n",
       "      <th>TSLA</th>\n",
       "      <td>0.102376</td>\n",
       "      <td>0.107528</td>\n",
       "      <td>0.071607</td>\n",
       "      <td>0.060724</td>\n",
       "      <td>0.056110</td>\n",
       "      <td>0.089836</td>\n",
       "      <td>0.433666</td>\n",
       "      <td>0.021681</td>\n",
       "    </tr>\n",
       "    <tr>\n",
       "      <th>WMT</th>\n",
       "      <td>0.026092</td>\n",
       "      <td>0.017760</td>\n",
       "      <td>0.018183</td>\n",
       "      <td>0.015356</td>\n",
       "      <td>0.017977</td>\n",
       "      <td>0.025876</td>\n",
       "      <td>0.021681</td>\n",
       "      <td>0.049700</td>\n",
       "    </tr>\n",
       "  </tbody>\n",
       "</table>\n",
       "</div>"
      ],
      "text/plain": [
       "Ticker     AAPL       BA      DIS       GE      JPM     MSFT     TSLA      WMT\n",
       "Ticker                                                                        \n",
       "AAPL   0.100524 0.065758 0.047655 0.046143 0.043029 0.071839 0.102376 0.026092\n",
       "BA     0.065758 0.259805 0.088111 0.124452 0.095406 0.057007 0.107528 0.017760\n",
       "DIS    0.047655 0.088111 0.115289 0.065014 0.061581 0.049045 0.071607 0.018183\n",
       "GE     0.046143 0.124452 0.065014 0.157411 0.079695 0.043903 0.060724 0.015356\n",
       "JPM    0.043029 0.095406 0.061581 0.079695 0.102221 0.041689 0.056110 0.017977\n",
       "MSFT   0.071839 0.057007 0.049045 0.043903 0.041689 0.091758 0.089836 0.025876\n",
       "TSLA   0.102376 0.107528 0.071607 0.060724 0.056110 0.089836 0.433666 0.021681\n",
       "WMT    0.026092 0.017760 0.018183 0.015356 0.017977 0.025876 0.021681 0.049700"
      ]
     },
     "execution_count": 116,
     "metadata": {},
     "output_type": "execute_result"
    }
   ],
   "source": [
    "cov_matrix = returns.cov() * 252\n",
    "cov_matrix"
   ]
  },
  {
   "cell_type": "code",
   "execution_count": null,
   "metadata": {},
   "outputs": [],
   "source": []
  },
  {
   "cell_type": "markdown",
   "metadata": {},
   "source": [
    "## Black-Litterman Step 1: Reverse Optimization"
   ]
  },
  {
   "attachments": {
    "image.png": {
     "image/png": "[encoded data removed]"
    }
   },
   "cell_type": "markdown",
   "metadata": {},
   "source": [
    "![image.png](attachment:image.png)"
   ]
  },
  {
   "cell_type": "markdown",
   "metadata": {},
   "source": [
    "__Normalizing Factor:__"
   ]
  },
  {
   "attachments": {
    "image-2.png": {
     "image/png": "[encoded data removed]"
    }
   },
   "cell_type": "markdown",
   "metadata": {},
   "source": [
    "![image-2.png](attachment:image-2.png)"
   ]
  },
  {
   "cell_type": "markdown",
   "metadata": {},
   "source": [
    "__Expected Return of Market Portfolio__ (rough guess)"
   ]
  },
  {
   "cell_type": "code",
   "execution_count": 124,
   "metadata": {},
   "outputs": [
    {
     "data": {
      "text/plain": [
       "0.1"
      ]
     },
     "execution_count": 124,
     "metadata": {},
     "output_type": "execute_result"
    }
   ],
   "source": [
    "rm = 0.1\n",
    "rm"
   ]
  },
  {
   "cell_type": "code",
   "execution_count": 126,
   "metadata": {},
   "outputs": [
    {
     "data": {
      "text/plain": [
       "0.8790141009348219"
      ]
     },
     "execution_count": 126,
     "metadata": {},
     "output_type": "execute_result"
    }
   ],
   "source": [
    "nf = (rm - rf) / (weights.T.dot(cov_matrix).dot(weights))\n",
    "nf"
   ]
  },
  {
   "cell_type": "code",
   "execution_count": 128,
   "metadata": {},
   "outputs": [
    {
     "data": {
      "text/plain": [
       "Ticker\n",
       "AAPL   0.101445\n",
       "BA     0.092672\n",
       "DIS    0.076652\n",
       "GE     0.074301\n",
       "JPM    0.072101\n",
       "MSFT   0.096084\n",
       "TSLA   0.146743\n",
       "WMT    0.052729\n",
       "dtype: float64"
      ]
     },
     "execution_count": 128,
     "metadata": {},
     "output_type": "execute_result"
    }
   ],
   "source": [
    "impl_ret = cov_matrix.dot(weights) * nf + rf\n",
    "impl_ret"
   ]
  },
  {
   "cell_type": "markdown",
   "metadata": {},
   "source": [
    "-> Implied/expected returns. -> Market Cap weighted Porfolio == Optimal Portfolio "
   ]
  },
  {
   "cell_type": "markdown",
   "metadata": {},
   "source": [
    "__Cross Check (MVO Optimization)__"
   ]
  },
  {
   "attachments": {
    "image.png": {
     "image/png": "[encoded data removed]"
    }
   },
   "cell_type": "markdown",
   "metadata": {},
   "source": [
    "![image.png](attachment:image.png)"
   ]
  },
  {
   "cell_type": "code",
   "execution_count": 133,
   "metadata": {},
   "outputs": [
    {
     "data": {
      "text/plain": [
       "AAPL   0.375845\n",
       "BA     0.013799\n",
       "DIS    0.029243\n",
       "GE     0.011874\n",
       "JPM    0.056163\n",
       "MSFT   0.326526\n",
       "TSLA   0.129872\n",
       "WMT    0.056678\n",
       "dtype: float64"
      ]
     },
     "execution_count": 133,
     "metadata": {},
     "output_type": "execute_result"
    }
   ],
   "source": [
    "weights"
   ]
  },
  {
   "cell_type": "code",
   "execution_count": 135,
   "metadata": {},
   "outputs": [
    {
     "data": {
      "text/html": [
       "<div>\n",
       "<style scoped>\n",
       "    .dataframe tbody tr th:only-of-type {\n",
       "        vertical-align: middle;\n",
       "    }\n",
       "\n",
       "    .dataframe tbody tr th {\n",
       "        vertical-align: top;\n",
       "    }\n",
       "\n",
       "    .dataframe thead th {\n",
       "        text-align: right;\n",
       "    }\n",
       "</style>\n",
       "<table border=\"1\" class=\"dataframe\">\n",
       "  <thead>\n",
       "    <tr style=\"text-align: right;\">\n",
       "      <th>Ticker</th>\n",
       "      <th>AAPL</th>\n",
       "      <th>BA</th>\n",
       "      <th>DIS</th>\n",
       "      <th>GE</th>\n",
       "      <th>JPM</th>\n",
       "      <th>MSFT</th>\n",
       "      <th>TSLA</th>\n",
       "      <th>WMT</th>\n",
       "    </tr>\n",
       "    <tr>\n",
       "      <th>Ticker</th>\n",
       "      <th></th>\n",
       "      <th></th>\n",
       "      <th></th>\n",
       "      <th></th>\n",
       "      <th></th>\n",
       "      <th></th>\n",
       "      <th></th>\n",
       "      <th></th>\n",
       "    </tr>\n",
       "  </thead>\n",
       "  <tbody>\n",
       "    <tr>\n",
       "      <th>AAPL</th>\n",
       "      <td>25.622801</td>\n",
       "      <td>-1.323390</td>\n",
       "      <td>-0.489411</td>\n",
       "      <td>-0.344630</td>\n",
       "      <td>-0.967695</td>\n",
       "      <td>-15.327886</td>\n",
       "      <td>-2.119254</td>\n",
       "      <td>-3.438318</td>\n",
       "    </tr>\n",
       "    <tr>\n",
       "      <th>BA</th>\n",
       "      <td>-1.323390</td>\n",
       "      <td>7.498646</td>\n",
       "      <td>-1.791533</td>\n",
       "      <td>-3.423874</td>\n",
       "      <td>-2.735526</td>\n",
       "      <td>0.590980</td>\n",
       "      <td>-0.573138</td>\n",
       "      <td>0.660318</td>\n",
       "    </tr>\n",
       "    <tr>\n",
       "      <th>DIS</th>\n",
       "      <td>-0.489411</td>\n",
       "      <td>-1.791533</td>\n",
       "      <td>15.192073</td>\n",
       "      <td>-1.217607</td>\n",
       "      <td>-4.601380</td>\n",
       "      <td>-3.298526</td>\n",
       "      <td>-0.464589</td>\n",
       "      <td>-0.700363</td>\n",
       "    </tr>\n",
       "    <tr>\n",
       "      <th>GE</th>\n",
       "      <td>-0.344630</td>\n",
       "      <td>-3.423874</td>\n",
       "      <td>-1.217607</td>\n",
       "      <td>12.599721</td>\n",
       "      <td>-5.627301</td>\n",
       "      <td>-0.727715</td>\n",
       "      <td>0.232438</td>\n",
       "      <td>0.269933</td>\n",
       "    </tr>\n",
       "    <tr>\n",
       "      <th>JPM</th>\n",
       "      <td>-0.967695</td>\n",
       "      <td>-2.735526</td>\n",
       "      <td>-4.601380</td>\n",
       "      <td>-5.627301</td>\n",
       "      <td>20.733195</td>\n",
       "      <td>-1.430438</td>\n",
       "      <td>0.164137</td>\n",
       "      <td>-1.918709</td>\n",
       "    </tr>\n",
       "    <tr>\n",
       "      <th>MSFT</th>\n",
       "      <td>-15.327886</td>\n",
       "      <td>0.590980</td>\n",
       "      <td>-3.298526</td>\n",
       "      <td>-0.727715</td>\n",
       "      <td>-1.430438</td>\n",
       "      <td>27.632569</td>\n",
       "      <td>-1.217140</td>\n",
       "      <td>-4.071011</td>\n",
       "    </tr>\n",
       "    <tr>\n",
       "      <th>TSLA</th>\n",
       "      <td>-2.119254</td>\n",
       "      <td>-0.573138</td>\n",
       "      <td>-0.464589</td>\n",
       "      <td>0.232438</td>\n",
       "      <td>0.164137</td>\n",
       "      <td>-1.217140</td>\n",
       "      <td>3.193561</td>\n",
       "      <td>0.596723</td>\n",
       "    </tr>\n",
       "    <tr>\n",
       "      <th>WMT</th>\n",
       "      <td>-3.438318</td>\n",
       "      <td>0.660318</td>\n",
       "      <td>-0.700363</td>\n",
       "      <td>0.269933</td>\n",
       "      <td>-1.918709</td>\n",
       "      <td>-4.071011</td>\n",
       "      <td>0.596723</td>\n",
       "      <td>24.415820</td>\n",
       "    </tr>\n",
       "  </tbody>\n",
       "</table>\n",
       "</div>"
      ],
      "text/plain": [
       "Ticker       AAPL        BA       DIS        GE       JPM       MSFT  \\\n",
       "Ticker                                                                 \n",
       "AAPL    25.622801 -1.323390 -0.489411 -0.344630 -0.967695 -15.327886   \n",
       "BA      -1.323390  7.498646 -1.791533 -3.423874 -2.735526   0.590980   \n",
       "DIS     -0.489411 -1.791533 15.192073 -1.217607 -4.601380  -3.298526   \n",
       "GE      -0.344630 -3.423874 -1.217607 12.599721 -5.627301  -0.727715   \n",
       "JPM     -0.967695 -2.735526 -4.601380 -5.627301 20.733195  -1.430438   \n",
       "MSFT   -15.327886  0.590980 -3.298526 -0.727715 -1.430438  27.632569   \n",
       "TSLA    -2.119254 -0.573138 -0.464589  0.232438  0.164137  -1.217140   \n",
       "WMT     -3.438318  0.660318 -0.700363  0.269933 -1.918709  -4.071011   \n",
       "\n",
       "Ticker      TSLA       WMT  \n",
       "Ticker                      \n",
       "AAPL   -2.119254 -3.438318  \n",
       "BA     -0.573138  0.660318  \n",
       "DIS    -0.464589 -0.700363  \n",
       "GE      0.232438  0.269933  \n",
       "JPM     0.164137 -1.918709  \n",
       "MSFT   -1.217140 -4.071011  \n",
       "TSLA    3.193561  0.596723  \n",
       "WMT     0.596723 24.415820  "
      ]
     },
     "execution_count": 135,
     "metadata": {},
     "output_type": "execute_result"
    }
   ],
   "source": [
    "cov_matrix_inv = pd.DataFrame(np.linalg.pinv(cov_matrix.values), cov_matrix.columns, cov_matrix.index)\n",
    "cov_matrix_inv"
   ]
  },
  {
   "cell_type": "code",
   "execution_count": 137,
   "metadata": {},
   "outputs": [
    {
     "data": {
      "text/plain": [
       "Ticker\n",
       "AAPL   0.330373\n",
       "BA     0.012130\n",
       "DIS    0.025705\n",
       "GE     0.010437\n",
       "JPM    0.049368\n",
       "MSFT   0.287021\n",
       "TSLA   0.114160\n",
       "WMT    0.049821\n",
       "dtype: float64"
      ]
     },
     "execution_count": 137,
     "metadata": {},
     "output_type": "execute_result"
    }
   ],
   "source": [
    "w = cov_matrix_inv.dot(impl_ret - rf)\n",
    "w"
   ]
  },
  {
   "cell_type": "code",
   "execution_count": 139,
   "metadata": {},
   "outputs": [
    {
     "data": {
      "text/plain": [
       "Ticker\n",
       "AAPL   0.375845\n",
       "BA     0.013799\n",
       "DIS    0.029243\n",
       "GE     0.011874\n",
       "JPM    0.056163\n",
       "MSFT   0.326526\n",
       "TSLA   0.129872\n",
       "WMT    0.056678\n",
       "dtype: float64"
      ]
     },
     "execution_count": 139,
     "metadata": {},
     "output_type": "execute_result"
    }
   ],
   "source": [
    "optimal_weights = (w/w.sum())\n",
    "optimal_weights"
   ]
  },
  {
   "cell_type": "code",
   "execution_count": 141,
   "metadata": {},
   "outputs": [
    {
     "data": {
      "text/plain": [
       "AAPL   0.375845\n",
       "BA     0.013799\n",
       "DIS    0.029243\n",
       "GE     0.011874\n",
       "JPM    0.056163\n",
       "MSFT   0.326526\n",
       "TSLA   0.129872\n",
       "WMT    0.056678\n",
       "dtype: float64"
      ]
     },
     "execution_count": 141,
     "metadata": {},
     "output_type": "execute_result"
    }
   ],
   "source": [
    "weights"
   ]
  },
  {
   "cell_type": "code",
   "execution_count": null,
   "metadata": {},
   "outputs": [],
   "source": []
  },
  {
   "cell_type": "markdown",
   "metadata": {},
   "source": [
    "## Black-Litterman Step 2: Incorporating Investor Opinions "
   ]
  },
  {
   "cell_type": "code",
   "execution_count": 145,
   "metadata": {
    "scrolled": true
   },
   "outputs": [
    {
     "data": {
      "text/plain": [
       "Ticker\n",
       "AAPL   0.101445\n",
       "BA     0.092672\n",
       "DIS    0.076652\n",
       "GE     0.074301\n",
       "JPM    0.072101\n",
       "MSFT   0.096084\n",
       "TSLA   0.146743\n",
       "WMT    0.052729\n",
       "dtype: float64"
      ]
     },
     "execution_count": 145,
     "metadata": {},
     "output_type": "execute_result"
    }
   ],
   "source": [
    "impl_ret"
   ]
  },
  {
   "cell_type": "markdown",
   "metadata": {},
   "source": [
    "__Two options:__"
   ]
  },
  {
   "cell_type": "markdown",
   "metadata": {},
   "source": [
    "1. Agree with implied returns / market expectations? <br>\n",
    " - Invest in the Market Portfolio (Market Cap weighted)"
   ]
  },
  {
   "cell_type": "markdown",
   "metadata": {},
   "source": [
    "2. Know better than the market?\n",
    "- Add (subjective) opinions by adjusting implied returns "
   ]
  },
  {
   "cell_type": "code",
   "execution_count": 153,
   "metadata": {},
   "outputs": [
    {
     "data": {
      "text/plain": [
       "Ticker\n",
       "AAPL   0.101445\n",
       "BA     0.092672\n",
       "DIS    0.076652\n",
       "GE     0.074301\n",
       "JPM    0.072101\n",
       "MSFT   0.096084\n",
       "TSLA   0.146743\n",
       "WMT    0.052729\n",
       "dtype: float64"
      ]
     },
     "execution_count": 153,
     "metadata": {},
     "output_type": "execute_result"
    }
   ],
   "source": [
    "impl_ret"
   ]
  },
  {
   "cell_type": "code",
   "execution_count": 155,
   "metadata": {},
   "outputs": [
    {
     "data": {
      "text/plain": [
       "Ticker\n",
       "AAPL   -0.010000\n",
       "BA     -0.010000\n",
       "DIS     0.010000\n",
       "GE      0.000000\n",
       "JPM     0.000000\n",
       "MSFT   -0.010000\n",
       "TSLA   -0.010000\n",
       "WMT     0.010000\n",
       "dtype: float64"
      ]
     },
     "execution_count": 155,
     "metadata": {},
     "output_type": "execute_result"
    }
   ],
   "source": [
    "opinion = pd.Series(data = [-0.01, -0.01, +0.01, 0, 0, -0.01, -0.01, +0.01], index = impl_ret.index)\n",
    "opinion"
   ]
  },
  {
   "cell_type": "code",
   "execution_count": 157,
   "metadata": {},
   "outputs": [
    {
     "data": {
      "text/plain": [
       "Ticker\n",
       "AAPL   0.091445\n",
       "BA     0.082672\n",
       "DIS    0.086652\n",
       "GE     0.074301\n",
       "JPM    0.072101\n",
       "MSFT   0.086084\n",
       "TSLA   0.136743\n",
       "WMT    0.062729\n",
       "dtype: float64"
      ]
     },
     "execution_count": 157,
     "metadata": {},
     "output_type": "execute_result"
    }
   ],
   "source": [
    "forecast = impl_ret + opinion\n",
    "forecast"
   ]
  },
  {
   "cell_type": "code",
   "execution_count": 159,
   "metadata": {},
   "outputs": [
    {
     "data": {
      "text/plain": [
       "Ticker\n",
       "AAPL    0.222573\n",
       "BA     -0.061113\n",
       "DIS     0.231063\n",
       "GE      0.043598\n",
       "JPM     0.033862\n",
       "MSFT    0.096541\n",
       "TSLA    0.122641\n",
       "WMT     0.349498\n",
       "dtype: float64"
      ]
     },
     "execution_count": 159,
     "metadata": {},
     "output_type": "execute_result"
    }
   ],
   "source": [
    "w = cov_matrix_inv.dot(forecast - rf)\n",
    "w"
   ]
  },
  {
   "cell_type": "code",
   "execution_count": 161,
   "metadata": {},
   "outputs": [
    {
     "data": {
      "text/plain": [
       "Ticker\n",
       "AAPL    0.214288\n",
       "BA     -0.058839\n",
       "DIS     0.222462\n",
       "GE      0.041976\n",
       "JPM     0.032602\n",
       "MSFT    0.092947\n",
       "TSLA    0.118076\n",
       "WMT     0.336489\n",
       "dtype: float64"
      ]
     },
     "execution_count": 161,
     "metadata": {},
     "output_type": "execute_result"
    }
   ],
   "source": [
    "optimal_weights = (w/w.sum()) \n",
    "optimal_weights"
   ]
  },
  {
   "cell_type": "code",
   "execution_count": 163,
   "metadata": {},
   "outputs": [
    {
     "data": {
      "text/plain": [
       "AAPL   0.375845\n",
       "BA     0.013799\n",
       "DIS    0.029243\n",
       "GE     0.011874\n",
       "JPM    0.056163\n",
       "MSFT   0.326526\n",
       "TSLA   0.129872\n",
       "WMT    0.056678\n",
       "dtype: float64"
      ]
     },
     "execution_count": 163,
     "metadata": {},
     "output_type": "execute_result"
    }
   ],
   "source": [
    "weights"
   ]
  },
  {
   "cell_type": "code",
   "execution_count": null,
   "metadata": {},
   "outputs": [],
   "source": []
  }
 ],
 "metadata": {
  "kernelspec": {
   "display_name": "Python 3 (ipykernel)",
   "language": "python",
   "name": "python3"
  },
  "language_info": {
   "codemirror_mode": {
    "name": "ipython",
    "version": 3
   },
   "file_extension": ".py",
   "mimetype": "text/x-python",
   "name": "python",
   "nbconvert_exporter": "python",
   "pygments_lexer": "ipython3",
   "version": "3.10.14"
  }
 },
 "nbformat": 4,
 "nbformat_minor": 4
}
